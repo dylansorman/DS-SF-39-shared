{
 "cells": [
  {
   "cell_type": "markdown",
   "metadata": {},
   "source": [
    "### Class 6- Starter code\n"
   ]
  },
  {
   "cell_type": "code",
   "execution_count": 22,
   "metadata": {},
   "outputs": [
    {
     "name": "stdout",
     "output_type": "stream",
     "text": [
      "Populating the interactive namespace from numpy and matplotlib\n"
     ]
    }
   ],
   "source": [
    "%pylab inline\n",
    "import numpy as np\n",
    "import pandas as pd\n",
    "from sklearn import linear_model, metrics\n",
    "import seaborn"
   ]
  },
  {
   "cell_type": "markdown",
   "metadata": {},
   "source": [
    "## Cross validation\n",
    "#### Intro to cross validation with bike share data from last time. We will be predicting casual ridership. "
   ]
  },
  {
   "cell_type": "code",
   "execution_count": 23,
   "metadata": {},
   "outputs": [],
   "source": [
    "from sklearn import cross_validation\n",
    "wd = '../../assets/dataset/'\n",
    "bikeshare = pd.read_csv(wd + 'bikeshare.csv')"
   ]
  },
  {
   "cell_type": "markdown",
   "metadata": {},
   "source": [
    "#### Create dummy variables and set outcome (dependent) variable"
   ]
  },
  {
   "cell_type": "code",
   "execution_count": 24,
   "metadata": {
    "collapsed": true
   },
   "outputs": [],
   "source": [
    "weather = pd.get_dummies(bikeshare.weathersit, prefix='weather')\n",
    "modeldata = bikeshare[['temp', 'hum']].join(weather[['weather_1', 'weather_2', 'weather_3']])\n",
    "y = pd.DataFrame(bikeshare.casual)"
   ]
  },
  {
   "cell_type": "code",
   "execution_count": 25,
   "metadata": {},
   "outputs": [
    {
     "data": {
      "text/html": [
       "<div>\n",
       "<style>\n",
       "    .dataframe thead tr:only-child th {\n",
       "        text-align: right;\n",
       "    }\n",
       "\n",
       "    .dataframe thead th {\n",
       "        text-align: left;\n",
       "    }\n",
       "\n",
       "    .dataframe tbody tr th {\n",
       "        vertical-align: top;\n",
       "    }\n",
       "</style>\n",
       "<table border=\"1\" class=\"dataframe\">\n",
       "  <thead>\n",
       "    <tr style=\"text-align: right;\">\n",
       "      <th></th>\n",
       "      <th>temp</th>\n",
       "      <th>hum</th>\n",
       "      <th>weather_1</th>\n",
       "      <th>weather_2</th>\n",
       "      <th>weather_3</th>\n",
       "    </tr>\n",
       "  </thead>\n",
       "  <tbody>\n",
       "    <tr>\n",
       "      <th>0</th>\n",
       "      <td>0.24</td>\n",
       "      <td>0.81</td>\n",
       "      <td>1</td>\n",
       "      <td>0</td>\n",
       "      <td>0</td>\n",
       "    </tr>\n",
       "    <tr>\n",
       "      <th>1</th>\n",
       "      <td>0.22</td>\n",
       "      <td>0.80</td>\n",
       "      <td>1</td>\n",
       "      <td>0</td>\n",
       "      <td>0</td>\n",
       "    </tr>\n",
       "    <tr>\n",
       "      <th>2</th>\n",
       "      <td>0.22</td>\n",
       "      <td>0.80</td>\n",
       "      <td>1</td>\n",
       "      <td>0</td>\n",
       "      <td>0</td>\n",
       "    </tr>\n",
       "    <tr>\n",
       "      <th>3</th>\n",
       "      <td>0.24</td>\n",
       "      <td>0.75</td>\n",
       "      <td>1</td>\n",
       "      <td>0</td>\n",
       "      <td>0</td>\n",
       "    </tr>\n",
       "    <tr>\n",
       "      <th>4</th>\n",
       "      <td>0.24</td>\n",
       "      <td>0.75</td>\n",
       "      <td>1</td>\n",
       "      <td>0</td>\n",
       "      <td>0</td>\n",
       "    </tr>\n",
       "  </tbody>\n",
       "</table>\n",
       "</div>"
      ],
      "text/plain": [
       "   temp   hum  weather_1  weather_2  weather_3\n",
       "0  0.24  0.81          1          0          0\n",
       "1  0.22  0.80          1          0          0\n",
       "2  0.22  0.80          1          0          0\n",
       "3  0.24  0.75          1          0          0\n",
       "4  0.24  0.75          1          0          0"
      ]
     },
     "execution_count": 25,
     "metadata": {},
     "output_type": "execute_result"
    }
   ],
   "source": [
    "modeldata.head()"
   ]
  },
  {
   "cell_type": "markdown",
   "metadata": {},
   "source": [
    "#### Create a cross valiation with 5 folds"
   ]
  },
  {
   "cell_type": "code",
   "execution_count": 26,
   "metadata": {},
   "outputs": [
    {
     "data": {
      "text/plain": [
       "(17379, 5)"
      ]
     },
     "execution_count": 26,
     "metadata": {},
     "output_type": "execute_result"
    }
   ],
   "source": [
    "kf = cross_validation.KFold(len(modeldata), n_folds=5, shuffle=True)\n",
    "modeldata.shape"
   ]
  },
  {
   "cell_type": "code",
   "execution_count": 27,
   "metadata": {
    "scrolled": true
   },
   "outputs": [
    {
     "name": "stdout",
     "output_type": "stream",
     "text": [
      "(array([    0,     1,     3, ..., 17375, 17376, 17378]), array([    2,    10,    14, ..., 17366, 17368, 17377]))\n",
      "(13903,) (3476,)\n",
      "(array([    1,     2,     4, ..., 17376, 17377, 17378]), array([    0,     3,     8, ..., 17367, 17372, 17375]))\n",
      "(13903,) (3476,)\n",
      "(array([    0,     1,     2, ..., 17375, 17377, 17378]), array([    6,     9,    25, ..., 17358, 17362, 17376]))\n",
      "(13903,) (3476,)\n",
      "(array([    0,     2,     3, ..., 17376, 17377, 17378]), array([    1,     4,     5, ..., 17369, 17370, 17371]))\n",
      "(13903,) (3476,)\n",
      "(array([    0,     1,     2, ..., 17375, 17376, 17377]), array([   12,    16,    17, ..., 17373, 17374, 17378]))\n",
      "(13904,) (3475,)\n"
     ]
    }
   ],
   "source": [
    "# kf basically contains 5 different test train sets of 80% and 20% split\n",
    "for a in kf:\n",
    "    print a\n",
    "    print a[0].shape , a[1].shape"
   ]
  },
  {
   "cell_type": "code",
   "execution_count": 28,
   "metadata": {},
   "outputs": [
    {
     "name": "stdout",
     "output_type": "stream",
     "text": [
      "~~~~ CROSS VALIDATION each fold ~~~~\n",
      "Model 1\n",
      "MSE: 1751.0070806\n",
      "R2: 0.321087096434\n",
      "Model 2\n",
      "MSE: 1605.35175949\n",
      "R2: 0.308687811492\n",
      "Model 3\n",
      "MSE: 1757.257776\n",
      "R2: 0.300070136303\n",
      "Model 4\n",
      "MSE: 1577.30275449\n",
      "R2: 0.317017078214\n",
      "Model 5\n",
      "MSE: 1675.60240947\n",
      "R2: 0.310553559447\n",
      "~~~~ SUMMARY OF CROSS VALIDATION ~~~~\n",
      "Mean of MSE for all folds: 1673.30435601\n",
      "Mean of R2 for all folds: 0.311483136378\n"
     ]
    }
   ],
   "source": [
    "mse_values = []\n",
    "scores = []\n",
    "n= 0\n",
    "print \"~~~~ CROSS VALIDATION each fold ~~~~\"\n",
    "for a in kf:\n",
    "    train_index = a[0] \n",
    "    test_index = a[1]\n",
    "    lm = linear_model.LinearRegression().fit(modeldata.iloc[train_index], y.iloc[train_index])\n",
    "    mse_values.append(metrics.mean_squared_error(y.iloc[test_index], lm.predict(modeldata.iloc[test_index])))\n",
    "    scores.append(lm.score(modeldata.iloc[test_index], y.iloc[test_index]))\n",
    "    n+=1\n",
    "    print 'Model', n\n",
    "    print 'MSE:', mse_values[n-1]\n",
    "    print 'R2:', scores[n-1]\n",
    "\n",
    "\n",
    "print \"~~~~ SUMMARY OF CROSS VALIDATION ~~~~\"\n",
    "print 'Mean of MSE for all folds:', np.mean(mse_values)\n",
    "print 'Mean of R2 for all folds:', np.mean(scores)"
   ]
  },
  {
   "cell_type": "code",
   "execution_count": 29,
   "metadata": {},
   "outputs": [
    {
     "name": "stdout",
     "output_type": "stream",
     "text": [
      "~~~~ Single Model ~~~~\n",
      "MSE of single model: 1672.58110765\n",
      "R2:  0.311934605989\n"
     ]
    }
   ],
   "source": [
    "lm = linear_model.LinearRegression().fit(modeldata, y)\n",
    "print \"~~~~ Single Model ~~~~\"\n",
    "print 'MSE of single model:', metrics.mean_squared_error(y, lm.predict(modeldata))\n",
    "print 'R2: ', lm.score(modeldata, y)"
   ]
  },
  {
   "cell_type": "markdown",
   "metadata": {},
   "source": [
    "### There are ways to improve our model with regularization. \n",
    "Let's check out the effects on MSE and R2"
   ]
  },
  {
   "cell_type": "code",
   "execution_count": 30,
   "metadata": {},
   "outputs": [
    {
     "name": "stdout",
     "output_type": "stream",
     "text": [
      "~~~ OLS ~~~\n",
      "OLS MSE:  1672.58110765\n",
      "OLS R2: 0.311934605989\n",
      "[[ 112.68901765  -84.01121684  -24.68489063  -21.00314494  -21.71893628]]\n",
      "~~~ Lasso ~~~\n",
      "Lasso MSE:  1725.41581608\n",
      "Lasso R2: 0.290199495922\n",
      "[ 86.81079432 -55.76414394   0.          -0.          -0.        ]\n",
      "~~~ Ridge ~~~\n",
      "Ridge MSE:  1672.60490113\n",
      "Ridge R2: 0.311924817843\n",
      "[[ 112.50129738  -83.84805622  -13.38214934   -9.72671278  -10.46162477]]\n"
     ]
    }
   ],
   "source": [
    "lm = linear_model.LinearRegression().fit(modeldata, y)\n",
    "print \"~~~ OLS ~~~\"\n",
    "print 'OLS MSE: ', metrics.mean_squared_error(y, lm.predict(modeldata))\n",
    "print 'OLS R2:', lm.score(modeldata, y)\n",
    "print lm.coef_\n",
    "\n",
    "lm = linear_model.Lasso().fit(modeldata, y)\n",
    "print \"~~~ Lasso ~~~\"\n",
    "print 'Lasso MSE: ', metrics.mean_squared_error(y, lm.predict(modeldata))\n",
    "print 'Lasso R2:', lm.score(modeldata, y)\n",
    "print lm.coef_\n",
    "\n",
    "lm = linear_model.Ridge().fit(modeldata, y)\n",
    "print \"~~~ Ridge ~~~\"\n",
    "print 'Ridge MSE: ', metrics.mean_squared_error(y, lm.predict(modeldata))\n",
    "print 'Ridge R2:', lm.score(modeldata, y)\n",
    "print lm.coef_\n"
   ]
  },
  {
   "cell_type": "markdown",
   "metadata": {},
   "source": [
    "### Figuring out the alphas can be done by \"hand\""
   ]
  },
  {
   "cell_type": "code",
   "execution_count": 46,
   "metadata": {},
   "outputs": [
    {
     "name": "stdout",
     "output_type": "stream",
     "text": [
      "Alpha: 1e-10\n",
      "[ 112.67353849  -83.99400867  -14.13184385  -10.45474561  -11.1736308 ]\n",
      "mse 1672.60030785\n",
      "r2 0.311926707425\n",
      "Alpha: 1e-09\n",
      "[ 112.67353845  -83.99400863  -14.13183603  -10.45473779  -11.17362296]\n",
      "mse 1672.60030788\n",
      "r2 0.311926707413\n",
      "Alpha: 1e-08\n",
      "[ 112.67353812  -83.99400832  -14.13175774  -10.45465952  -11.17354466]\n",
      "mse 1672.60030816\n",
      "r2 0.311926707296\n",
      "Alpha: 1e-07\n",
      "[ 112.67353477  -83.99400521  -14.13097487  -10.4538768   -11.17276161]\n",
      "mse 1672.60031101\n",
      "r2 0.311926706124\n",
      "Alpha: 1e-06\n",
      "[ 112.67350128  -83.99397405  -14.12314614  -10.4460497   -11.16493108]\n",
      "mse 1672.60033951\n",
      "r2 0.3119266944\n",
      "Alpha: 1e-05\n",
      "[ 112.67316634  -83.9936625   -14.04485887  -10.36777861  -11.08662579]\n",
      "mse 1672.60062569\n",
      "r2 0.311926576673\n",
      "Alpha: 0.0001\n",
      "[ 112.66981758  -83.99054765  -13.26239352   -9.58547483  -10.30397994]\n",
      "mse 1672.60360255\n",
      "r2 0.311925352052\n",
      "Alpha: 0.001\n",
      "[ 112.63635975  -83.9594323    -5.45806601   -1.78275411   -2.49783247]\n",
      "mse 1672.64489673\n",
      "r2 0.311908364477\n",
      "Alpha: 0.01\n",
      "[ 112.39077334  -83.66325507   -2.90812399    0.66752444   -0.        ]\n",
      "mse 1672.66932453\n",
      "r2 0.311898315384\n",
      "Alpha: 0.1\n",
      "[ 109.93593998  -80.45002088   -1.82328187    0.77974702   -0.        ]\n",
      "mse 1673.39565389\n",
      "r2 0.311599518456\n",
      "Alpha: 1.0\n",
      "[ 86.81079432 -55.76414394   0.          -0.          -0.        ]\n",
      "mse 1725.41581608\n",
      "r2 0.290199495922\n",
      "Alpha: 10.0\n",
      "[ 0. -0.  0. -0. -0.]\n",
      "mse 2430.84614081\n",
      "r2 0.0\n",
      "Alpha: 100.0\n",
      "[ 0. -0.  0. -0. -0.]\n",
      "mse 2430.84614081\n",
      "r2 0.0\n",
      "Alpha: 1000.0\n",
      "[ 0. -0.  0. -0. -0.]\n",
      "mse 2430.84614081\n",
      "r2 0.0\n",
      "Alpha: 10000.0\n",
      "[ 0. -0.  0. -0. -0.]\n",
      "mse 2430.84614081\n",
      "r2 0.0\n",
      "Alpha: 100000.0\n",
      "[ 0. -0.  0. -0. -0.]\n",
      "mse 2430.84614081\n",
      "r2 0.0\n",
      "Alpha: 1000000.0\n",
      "[ 0. -0.  0. -0. -0.]\n",
      "mse 2430.84614081\n",
      "r2 0.0\n",
      "Alpha: 10000000.0\n",
      "[ 0. -0.  0. -0. -0.]\n",
      "mse 2430.84614081\n",
      "r2 0.0\n",
      "Alpha: 100000000.0\n",
      "[ 0. -0.  0. -0. -0.]\n",
      "mse 2430.84614081\n",
      "r2 0.0\n",
      "Alpha: 1000000000.0\n",
      "[ 0. -0.  0. -0. -0.]\n",
      "mse 2430.84614081\n",
      "r2 0.0\n",
      "Alpha: 10000000000.0\n",
      "[ 0. -0.  0. -0. -0.]\n",
      "mse 2430.84614081\n",
      "r2 0.0\n"
     ]
    }
   ],
   "source": [
    "alphas = np.logspace(-10, 10, 21)\n",
    "mse =[]\n",
    "for a in alphas:\n",
    "    print 'Alpha:', a\n",
    "    lm = linear_model.Lasso(alpha=a)\n",
    "    lm.fit(modeldata, y)\n",
    "    print lm.coef_\n",
    "    mse.append(metrics.mean_squared_error(y, lm.predict(modeldata)))\n",
    "    print \"mse\" , metrics.mean_squared_error(y, lm.predict(modeldata))\n",
    "    print  \"r2\", lm.score(modeldata, y)"
   ]
  },
  {
   "cell_type": "markdown",
   "metadata": {},
   "source": [
    "### Or we can use grid search to make this faster"
   ]
  },
  {
   "cell_type": "code",
   "execution_count": 33,
   "metadata": {},
   "outputs": [
    {
     "name": "stderr",
     "output_type": "stream",
     "text": [
      "/Users/srikanajan/anaconda/lib/python2.7/site-packages/sklearn/grid_search.py:43: DeprecationWarning: This module was deprecated in version 0.18 in favor of the model_selection module into which all the refactored classes and functions are moved. This module will be removed in 0.20.\n",
      "  DeprecationWarning)\n"
     ]
    },
    {
     "data": {
      "text/plain": [
       "GridSearchCV(cv=5, error_score='raise',\n",
       "       estimator=Ridge(alpha=1.0, copy_X=True, fit_intercept=True, max_iter=None,\n",
       "   normalize=False, random_state=None, solver='auto', tol=0.001),\n",
       "       fit_params={}, iid=True, n_jobs=1,\n",
       "       param_grid={'normalize': [True, False], 'alpha': array([  1.00000e-10,   1.00000e-09,   1.00000e-08,   1.00000e-07,\n",
       "         1.00000e-06,   1.00000e-05,   1.00000e-04,   1.00000e-03,\n",
       "         1.00000e-02,   1.00000e-01,   1.00000e+00,   1.00000e+01,\n",
       "         1.00000e+02,   1.00000e+03,   1.00000e+04,   1.00000e+05,\n",
       "         1.00000e+06,   1.00000e+07,   1.00000e+08,   1.00000e+09,\n",
       "         1.00000e+10]), 'fit_intercept': [True, False]},\n",
       "       pre_dispatch='2*n_jobs', refit=True, scoring='r2', verbose=0)"
      ]
     },
     "execution_count": 33,
     "metadata": {},
     "output_type": "execute_result"
    }
   ],
   "source": [
    "from sklearn import grid_search\n",
    "\n",
    "alphas = np.logspace(-10, 10, 21)\n",
    "gs = grid_search.GridSearchCV(\n",
    "    estimator=linear_model.Ridge(),\n",
    "    param_grid={'alpha': alphas,'fit_intercept':[True,False],'normalize':[True,False]},\n",
    "    scoring='r2',cv=5)\n",
    "\n",
    "gs.fit(modeldata, y)\n"
   ]
  },
  {
   "cell_type": "markdown",
   "metadata": {},
   "source": [
    "##### Best score "
   ]
  },
  {
   "cell_type": "code",
   "execution_count": 34,
   "metadata": {},
   "outputs": [
    {
     "name": "stdout",
     "output_type": "stream",
     "text": [
      "0.202451386997\n"
     ]
    }
   ],
   "source": [
    "print gs.best_score_ "
   ]
  },
  {
   "cell_type": "markdown",
   "metadata": {},
   "source": [
    "##### mean squared error here comes in negative, so let's make it positive."
   ]
  },
  {
   "cell_type": "code",
   "execution_count": 35,
   "metadata": {},
   "outputs": [
    {
     "name": "stdout",
     "output_type": "stream",
     "text": [
      "-0.202451386997\n"
     ]
    }
   ],
   "source": [
    "print -gs.best_score_ "
   ]
  },
  {
   "cell_type": "markdown",
   "metadata": {},
   "source": [
    "##### explains which grid_search setup worked best"
   ]
  },
  {
   "cell_type": "code",
   "execution_count": 36,
   "metadata": {},
   "outputs": [
    {
     "data": {
      "text/plain": [
       "Ridge(alpha=100.0, copy_X=True, fit_intercept=False, max_iter=None,\n",
       "   normalize=True, random_state=None, solver='auto', tol=0.001)"
      ]
     },
     "execution_count": 36,
     "metadata": {},
     "output_type": "execute_result"
    }
   ],
   "source": [
    "gs.best_estimator_"
   ]
  },
  {
   "cell_type": "code",
   "execution_count": 37,
   "metadata": {},
   "outputs": [
    {
     "data": {
      "text/plain": [
       "array([[ 102.45071437,  -63.30768502,   24.29725529,   24.68464918,\n",
       "          20.2370095 ]])"
      ]
     },
     "execution_count": 37,
     "metadata": {},
     "output_type": "execute_result"
    }
   ],
   "source": [
    "gs.best_estimator_.fit(modeldata,y).coef_"
   ]
  },
  {
   "cell_type": "code",
   "execution_count": 38,
   "metadata": {},
   "outputs": [
    {
     "name": "stdout",
     "output_type": "stream",
     "text": [
      "[[ 102.45071437  -63.30768502   24.29725529   24.68464918   20.2370095 ]]\n"
     ]
    }
   ],
   "source": [
    "print gs.best_estimator_.coef_"
   ]
  },
  {
   "cell_type": "markdown",
   "metadata": {},
   "source": [
    "##### shows all the grid pairings and their performances."
   ]
  },
  {
   "cell_type": "code",
   "execution_count": 40,
   "metadata": {},
   "outputs": [
    {
     "data": {
      "text/plain": [
       "[mean: 0.16943, std: 0.07741, params: {'normalize': True, 'alpha': 1e-10, 'fit_intercept': True},\n",
       " mean: 0.16943, std: 0.07741, params: {'normalize': False, 'alpha': 1e-10, 'fit_intercept': True},\n",
       " mean: 0.16873, std: 0.07775, params: {'normalize': True, 'alpha': 1e-10, 'fit_intercept': False},\n",
       " mean: 0.16873, std: 0.07775, params: {'normalize': False, 'alpha': 1e-10, 'fit_intercept': False},\n",
       " mean: 0.16943, std: 0.07741, params: {'normalize': True, 'alpha': 1.0000000000000001e-09, 'fit_intercept': True},\n",
       " mean: 0.16943, std: 0.07741, params: {'normalize': False, 'alpha': 1.0000000000000001e-09, 'fit_intercept': True},\n",
       " mean: 0.16873, std: 0.07775, params: {'normalize': True, 'alpha': 1.0000000000000001e-09, 'fit_intercept': False},\n",
       " mean: 0.16873, std: 0.07775, params: {'normalize': False, 'alpha': 1.0000000000000001e-09, 'fit_intercept': False},\n",
       " mean: 0.16943, std: 0.07741, params: {'normalize': True, 'alpha': 1e-08, 'fit_intercept': True},\n",
       " mean: 0.16943, std: 0.07741, params: {'normalize': False, 'alpha': 1e-08, 'fit_intercept': True},\n",
       " mean: 0.16873, std: 0.07775, params: {'normalize': True, 'alpha': 1e-08, 'fit_intercept': False},\n",
       " mean: 0.16873, std: 0.07775, params: {'normalize': False, 'alpha': 1e-08, 'fit_intercept': False},\n",
       " mean: 0.16943, std: 0.07741, params: {'normalize': True, 'alpha': 9.9999999999999995e-08, 'fit_intercept': True},\n",
       " mean: 0.16943, std: 0.07741, params: {'normalize': False, 'alpha': 9.9999999999999995e-08, 'fit_intercept': True},\n",
       " mean: 0.16873, std: 0.07775, params: {'normalize': True, 'alpha': 9.9999999999999995e-08, 'fit_intercept': False},\n",
       " mean: 0.16873, std: 0.07775, params: {'normalize': False, 'alpha': 9.9999999999999995e-08, 'fit_intercept': False},\n",
       " mean: 0.16943, std: 0.07741, params: {'normalize': True, 'alpha': 9.9999999999999995e-07, 'fit_intercept': True},\n",
       " mean: 0.16943, std: 0.07741, params: {'normalize': False, 'alpha': 9.9999999999999995e-07, 'fit_intercept': True},\n",
       " mean: 0.16873, std: 0.07775, params: {'normalize': True, 'alpha': 9.9999999999999995e-07, 'fit_intercept': False},\n",
       " mean: 0.16873, std: 0.07775, params: {'normalize': False, 'alpha': 9.9999999999999995e-07, 'fit_intercept': False},\n",
       " mean: 0.16943, std: 0.07741, params: {'normalize': True, 'alpha': 1.0000000000000001e-05, 'fit_intercept': True},\n",
       " mean: 0.16943, std: 0.07741, params: {'normalize': False, 'alpha': 1.0000000000000001e-05, 'fit_intercept': True},\n",
       " mean: 0.16873, std: 0.07775, params: {'normalize': True, 'alpha': 1.0000000000000001e-05, 'fit_intercept': False},\n",
       " mean: 0.16873, std: 0.07775, params: {'normalize': False, 'alpha': 1.0000000000000001e-05, 'fit_intercept': False},\n",
       " mean: 0.16943, std: 0.07739, params: {'normalize': True, 'alpha': 0.0001, 'fit_intercept': True},\n",
       " mean: 0.16943, std: 0.07741, params: {'normalize': False, 'alpha': 0.0001, 'fit_intercept': True},\n",
       " mean: 0.16873, std: 0.07775, params: {'normalize': True, 'alpha': 0.0001, 'fit_intercept': False},\n",
       " mean: 0.16873, std: 0.07775, params: {'normalize': False, 'alpha': 0.0001, 'fit_intercept': False},\n",
       " mean: 0.16954, std: 0.07717, params: {'normalize': True, 'alpha': 0.001, 'fit_intercept': True},\n",
       " mean: 0.16943, std: 0.07741, params: {'normalize': False, 'alpha': 0.001, 'fit_intercept': True},\n",
       " mean: 0.16873, std: 0.07775, params: {'normalize': True, 'alpha': 0.001, 'fit_intercept': False},\n",
       " mean: 0.16873, std: 0.07775, params: {'normalize': False, 'alpha': 0.001, 'fit_intercept': False},\n",
       " mean: 0.17117, std: 0.07492, params: {'normalize': True, 'alpha': 0.01, 'fit_intercept': True},\n",
       " mean: 0.16944, std: 0.07741, params: {'normalize': False, 'alpha': 0.01, 'fit_intercept': True},\n",
       " mean: 0.16874, std: 0.07774, params: {'normalize': True, 'alpha': 0.01, 'fit_intercept': False},\n",
       " mean: 0.16874, std: 0.07774, params: {'normalize': False, 'alpha': 0.01, 'fit_intercept': False},\n",
       " mean: 0.18152, std: 0.05745, params: {'normalize': True, 'alpha': 0.10000000000000001, 'fit_intercept': True},\n",
       " mean: 0.16947, std: 0.07736, params: {'normalize': False, 'alpha': 0.10000000000000001, 'fit_intercept': True},\n",
       " mean: 0.16881, std: 0.07769, params: {'normalize': True, 'alpha': 0.10000000000000001, 'fit_intercept': False},\n",
       " mean: 0.16881, std: 0.07769, params: {'normalize': False, 'alpha': 0.10000000000000001, 'fit_intercept': False},\n",
       " mean: 0.11472, std: 0.07288, params: {'normalize': True, 'alpha': 1.0, 'fit_intercept': True},\n",
       " mean: 0.16977, std: 0.07690, params: {'normalize': False, 'alpha': 1.0, 'fit_intercept': True},\n",
       " mean: 0.16956, std: 0.07715, params: {'normalize': True, 'alpha': 1.0, 'fit_intercept': False},\n",
       " mean: 0.16956, std: 0.07715, params: {'normalize': False, 'alpha': 1.0, 'fit_intercept': False},\n",
       " mean: -0.16116, std: 0.22649, params: {'normalize': True, 'alpha': 10.0, 'fit_intercept': True},\n",
       " mean: 0.17296, std: 0.07247, params: {'normalize': False, 'alpha': 10.0, 'fit_intercept': True},\n",
       " mean: 0.17627, std: 0.07246, params: {'normalize': True, 'alpha': 10.0, 'fit_intercept': False},\n",
       " mean: 0.17627, std: 0.07246, params: {'normalize': False, 'alpha': 10.0, 'fit_intercept': False},\n",
       " mean: -0.25127, std: 0.27671, params: {'normalize': True, 'alpha': 100.0, 'fit_intercept': True},\n",
       " mean: 0.18453, std: 0.04642, params: {'normalize': False, 'alpha': 100.0, 'fit_intercept': True},\n",
       " mean: 0.20245, std: 0.05823, params: {'normalize': True, 'alpha': 100.0, 'fit_intercept': False},\n",
       " mean: 0.20245, std: 0.05823, params: {'normalize': False, 'alpha': 100.0, 'fit_intercept': False},\n",
       " mean: -0.26223, std: 0.28286, params: {'normalize': True, 'alpha': 1000.0, 'fit_intercept': True},\n",
       " mean: 0.03003, std: 0.12346, params: {'normalize': False, 'alpha': 1000.0, 'fit_intercept': True},\n",
       " mean: 0.08332, std: 0.07735, params: {'normalize': True, 'alpha': 1000.0, 'fit_intercept': False},\n",
       " mean: 0.08332, std: 0.07735, params: {'normalize': False, 'alpha': 1000.0, 'fit_intercept': False},\n",
       " mean: -0.26335, std: 0.28349, params: {'normalize': True, 'alpha': 10000.0, 'fit_intercept': True},\n",
       " mean: -0.20023, std: 0.25175, params: {'normalize': False, 'alpha': 10000.0, 'fit_intercept': True},\n",
       " mean: -0.09096, std: 0.13165, params: {'normalize': True, 'alpha': 10000.0, 'fit_intercept': False},\n",
       " mean: -0.09096, std: 0.13165, params: {'normalize': False, 'alpha': 10000.0, 'fit_intercept': False},\n",
       " mean: -0.26346, std: 0.28355, params: {'normalize': True, 'alpha': 100000.0, 'fit_intercept': True},\n",
       " mean: -0.25560, std: 0.27968, params: {'normalize': False, 'alpha': 100000.0, 'fit_intercept': True},\n",
       " mean: -0.42809, std: 0.21027, params: {'normalize': True, 'alpha': 100000.0, 'fit_intercept': False},\n",
       " mean: -0.42809, std: 0.21027, params: {'normalize': False, 'alpha': 100000.0, 'fit_intercept': False},\n",
       " mean: -0.26347, std: 0.28356, params: {'normalize': True, 'alpha': 1000000.0, 'fit_intercept': True},\n",
       " mean: -0.26266, std: 0.28316, params: {'normalize': False, 'alpha': 1000000.0, 'fit_intercept': True},\n",
       " mean: -0.58119, std: 0.19869, params: {'normalize': True, 'alpha': 1000000.0, 'fit_intercept': False},\n",
       " mean: -0.58119, std: 0.19869, params: {'normalize': False, 'alpha': 1000000.0, 'fit_intercept': False},\n",
       " mean: -0.26347, std: 0.28356, params: {'normalize': True, 'alpha': 10000000.0, 'fit_intercept': True},\n",
       " mean: -0.26339, std: 0.28352, params: {'normalize': False, 'alpha': 10000000.0, 'fit_intercept': True},\n",
       " mean: -0.60091, std: 0.19664, params: {'normalize': True, 'alpha': 10000000.0, 'fit_intercept': False},\n",
       " mean: -0.60091, std: 0.19664, params: {'normalize': False, 'alpha': 10000000.0, 'fit_intercept': False},\n",
       " mean: -0.26347, std: 0.28356, params: {'normalize': True, 'alpha': 100000000.0, 'fit_intercept': True},\n",
       " mean: -0.26346, std: 0.28355, params: {'normalize': False, 'alpha': 100000000.0, 'fit_intercept': True},\n",
       " mean: -0.60294, std: 0.19643, params: {'normalize': True, 'alpha': 100000000.0, 'fit_intercept': False},\n",
       " mean: -0.60294, std: 0.19643, params: {'normalize': False, 'alpha': 100000000.0, 'fit_intercept': False},\n",
       " mean: -0.26347, std: 0.28356, params: {'normalize': True, 'alpha': 1000000000.0, 'fit_intercept': True},\n",
       " mean: -0.26347, std: 0.28356, params: {'normalize': False, 'alpha': 1000000000.0, 'fit_intercept': True},\n",
       " mean: -0.60314, std: 0.19640, params: {'normalize': True, 'alpha': 1000000000.0, 'fit_intercept': False},\n",
       " mean: -0.60314, std: 0.19640, params: {'normalize': False, 'alpha': 1000000000.0, 'fit_intercept': False},\n",
       " mean: -0.26347, std: 0.28356, params: {'normalize': True, 'alpha': 10000000000.0, 'fit_intercept': True},\n",
       " mean: -0.26347, std: 0.28356, params: {'normalize': False, 'alpha': 10000000000.0, 'fit_intercept': True},\n",
       " mean: -0.60316, std: 0.19640, params: {'normalize': True, 'alpha': 10000000000.0, 'fit_intercept': False},\n",
       " mean: -0.60316, std: 0.19640, params: {'normalize': False, 'alpha': 10000000000.0, 'fit_intercept': False}]"
      ]
     },
     "execution_count": 40,
     "metadata": {},
     "output_type": "execute_result"
    }
   ],
   "source": [
    "[x for x in gs.grid_scores_ ]"
   ]
  },
  {
   "cell_type": "markdown",
   "metadata": {},
   "source": [
    "# Independent Practice: Bike data revisited\n",
    "\n",
    "There are tons of ways to approach a regression problem. The regularization techniques appended to ordinary least squares optimizes the size of coefficients to best account for error. Gradient Descent also introduces learning rate (how aggressively do we solve the problem), epsilon (at what point do we say the error margin is acceptable), and iterations (when should we stop no matter what?)\n",
    "\n",
    "For this deliverable, our goals are to:\n",
    "\n",
    "- implement the gradient descent/ridge/regression/OLS approach to our bike-share modeling problem,\n",
    "- demonstrate the grid_search module!\n",
    "\n"
   ]
  },
  {
   "cell_type": "markdown",
   "metadata": {},
   "source": [
    "### Try out these questions for yourself\n",
    "While exploring the Gradient Descent regressor object, you'll build a grid search using the stochastic gradient descent estimator for the bike-share data set. Continue with either the model you evaluated last class or the simpler one from today. In particular, be sure to implement the \"param_grid\" in the grid search to get answers for the following questions:\n",
    "\n",
    "- With a set of alpha values between 10^-10 and 10^-1, how does the mean squared error change?\n",
    "- Based on the data, we know when to properly use l1 vs l2 regularization. By using a grid search with l1_ratios between 0 and 1 (increasing every 0.05), does that statement hold true? If not, did gradient descent have enough iterations?\n",
    "- How do these results change when you alter the learning rate (eta0)?\n",
    "\n",
    "**Bonus**: Can you see the advantages and disadvantages of using gradient descent after finishing this exercise?"
   ]
  },
  {
   "cell_type": "markdown",
   "metadata": {},
   "source": [
    "### Starter Code"
   ]
  },
  {
   "cell_type": "code",
   "execution_count": 44,
   "metadata": {},
   "outputs": [
    {
     "name": "stdout",
     "output_type": "stream",
     "text": [
      "BEST ESTIMATOR\n",
      "-0.304583401234\n",
      "SGDRegressor(alpha=0.0001, average=False, epsilon=0.1, eta0=0.01,\n",
      "       fit_intercept=True, l1_ratio=0.15, learning_rate='invscaling',\n",
      "       loss='squared_loss', n_iter=5, penalty='l2', power_t=0.25,\n",
      "       random_state=None, shuffle=True, verbose=0, warm_start=False)\n",
      "ALL ESTIMATORS\n",
      "[mean: 0.30458, std: 0.01269, params: {}]\n"
     ]
    }
   ],
   "source": [
    "params = {} # put your gradient descent parameters here\n",
    "gs = grid_search.GridSearchCV(\n",
    "    estimator=linear_model.SGDRegressor(),\n",
    "    cv=cross_validation.KFold(len(modeldata), n_folds=5, shuffle=True),\n",
    "    param_grid=params,\n",
    "    scoring='r2',\n",
    "    )\n",
    "\n",
    "gs.fit(modeldata, y)\n",
    "\n",
    "print 'BEST ESTIMATOR'\n",
    "# NOTE: Due to a weird design issue(there is an open issue on sklearn about this), MSE is a negative value. I.e. the\n",
    "# smaller the absolute value, the better the performance.\n",
    "print -gs.best_score_\n",
    "print gs.best_estimator_\n",
    "print 'ALL ESTIMATORS'\n",
    "print gs.grid_scores_"
   ]
  },
  {
   "cell_type": "code",
   "execution_count": 134,
   "metadata": {
    "collapsed": true
   },
   "outputs": [],
   "source": [
    "## go for it! Check out other parameters such as \"penalty\" since that refers to l1 vs l2. Gridsearch on that paramter\n",
    "## And Others and see which model gives you the best result."
   ]
  },
  {
   "cell_type": "markdown",
   "metadata": {},
   "source": [
    "### Bonus : Try to compare SGD Regressor with linear regression in terms of MSE and R^2"
   ]
  },
  {
   "cell_type": "code",
   "execution_count": null,
   "metadata": {
    "collapsed": true
   },
   "outputs": [],
   "source": []
  }
 ],
 "metadata": {
  "kernelspec": {
   "display_name": "Python 2",
   "language": "python",
   "name": "python2"
  },
  "language_info": {
   "codemirror_mode": {
    "name": "ipython",
    "version": 2
   },
   "file_extension": ".py",
   "mimetype": "text/x-python",
   "name": "python",
   "nbconvert_exporter": "python",
   "pygments_lexer": "ipython2",
   "version": "2.7.13"
  }
 },
 "nbformat": 4,
 "nbformat_minor": 1
}

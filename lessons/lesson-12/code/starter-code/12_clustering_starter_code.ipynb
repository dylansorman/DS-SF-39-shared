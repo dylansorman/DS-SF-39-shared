{
 "cells": [
  {
   "cell_type": "markdown",
   "metadata": {},
   "source": [
    "# Clustering"
   ]
  },
  {
   "cell_type": "markdown",
   "metadata": {},
   "source": [
    "## Agenda:\n",
    "\n",
    "1. K-means clustering\n",
    "2. Clustering evaluation\n",
    "3. DBSCAN clustering"
   ]
  },
  {
   "cell_type": "code",
   "execution_count": 1,
   "metadata": {},
   "outputs": [
    {
     "data": {
      "text/html": [
       "<div>\n",
       "<style>\n",
       "    .dataframe thead tr:only-child th {\n",
       "        text-align: right;\n",
       "    }\n",
       "\n",
       "    .dataframe thead th {\n",
       "        text-align: left;\n",
       "    }\n",
       "\n",
       "    .dataframe tbody tr th {\n",
       "        vertical-align: top;\n",
       "    }\n",
       "</style>\n",
       "<table border=\"1\" class=\"dataframe\">\n",
       "  <thead>\n",
       "    <tr style=\"text-align: right;\">\n",
       "      <th></th>\n",
       "      <th>name</th>\n",
       "      <th>calories</th>\n",
       "      <th>sodium</th>\n",
       "      <th>alcohol</th>\n",
       "      <th>cost</th>\n",
       "    </tr>\n",
       "  </thead>\n",
       "  <tbody>\n",
       "    <tr>\n",
       "      <th>0</th>\n",
       "      <td>Budweiser</td>\n",
       "      <td>144</td>\n",
       "      <td>15</td>\n",
       "      <td>4.7</td>\n",
       "      <td>0.43</td>\n",
       "    </tr>\n",
       "    <tr>\n",
       "      <th>1</th>\n",
       "      <td>Schlitz</td>\n",
       "      <td>151</td>\n",
       "      <td>19</td>\n",
       "      <td>4.9</td>\n",
       "      <td>0.43</td>\n",
       "    </tr>\n",
       "    <tr>\n",
       "      <th>2</th>\n",
       "      <td>Lowenbrau</td>\n",
       "      <td>157</td>\n",
       "      <td>15</td>\n",
       "      <td>0.9</td>\n",
       "      <td>0.48</td>\n",
       "    </tr>\n",
       "    <tr>\n",
       "      <th>3</th>\n",
       "      <td>Kronenbourg</td>\n",
       "      <td>170</td>\n",
       "      <td>7</td>\n",
       "      <td>5.2</td>\n",
       "      <td>0.73</td>\n",
       "    </tr>\n",
       "    <tr>\n",
       "      <th>4</th>\n",
       "      <td>Heineken</td>\n",
       "      <td>152</td>\n",
       "      <td>11</td>\n",
       "      <td>5.0</td>\n",
       "      <td>0.77</td>\n",
       "    </tr>\n",
       "    <tr>\n",
       "      <th>5</th>\n",
       "      <td>Old_Milwaukee</td>\n",
       "      <td>145</td>\n",
       "      <td>23</td>\n",
       "      <td>4.6</td>\n",
       "      <td>0.28</td>\n",
       "    </tr>\n",
       "    <tr>\n",
       "      <th>6</th>\n",
       "      <td>Augsberger</td>\n",
       "      <td>175</td>\n",
       "      <td>24</td>\n",
       "      <td>5.5</td>\n",
       "      <td>0.40</td>\n",
       "    </tr>\n",
       "    <tr>\n",
       "      <th>7</th>\n",
       "      <td>Srohs_Bohemian_Style</td>\n",
       "      <td>149</td>\n",
       "      <td>27</td>\n",
       "      <td>4.7</td>\n",
       "      <td>0.42</td>\n",
       "    </tr>\n",
       "    <tr>\n",
       "      <th>8</th>\n",
       "      <td>Miller_Lite</td>\n",
       "      <td>99</td>\n",
       "      <td>10</td>\n",
       "      <td>4.3</td>\n",
       "      <td>0.43</td>\n",
       "    </tr>\n",
       "    <tr>\n",
       "      <th>9</th>\n",
       "      <td>Budweiser_Light</td>\n",
       "      <td>113</td>\n",
       "      <td>8</td>\n",
       "      <td>3.7</td>\n",
       "      <td>0.40</td>\n",
       "    </tr>\n",
       "    <tr>\n",
       "      <th>10</th>\n",
       "      <td>Coors</td>\n",
       "      <td>140</td>\n",
       "      <td>18</td>\n",
       "      <td>4.6</td>\n",
       "      <td>0.44</td>\n",
       "    </tr>\n",
       "    <tr>\n",
       "      <th>11</th>\n",
       "      <td>Coors_Light</td>\n",
       "      <td>102</td>\n",
       "      <td>15</td>\n",
       "      <td>4.1</td>\n",
       "      <td>0.46</td>\n",
       "    </tr>\n",
       "    <tr>\n",
       "      <th>12</th>\n",
       "      <td>Michelob_Light</td>\n",
       "      <td>135</td>\n",
       "      <td>11</td>\n",
       "      <td>4.2</td>\n",
       "      <td>0.50</td>\n",
       "    </tr>\n",
       "    <tr>\n",
       "      <th>13</th>\n",
       "      <td>Becks</td>\n",
       "      <td>150</td>\n",
       "      <td>19</td>\n",
       "      <td>4.7</td>\n",
       "      <td>0.76</td>\n",
       "    </tr>\n",
       "    <tr>\n",
       "      <th>14</th>\n",
       "      <td>Kirin</td>\n",
       "      <td>149</td>\n",
       "      <td>6</td>\n",
       "      <td>5.0</td>\n",
       "      <td>0.79</td>\n",
       "    </tr>\n",
       "    <tr>\n",
       "      <th>15</th>\n",
       "      <td>Pabst_Extra_Light</td>\n",
       "      <td>68</td>\n",
       "      <td>15</td>\n",
       "      <td>2.3</td>\n",
       "      <td>0.38</td>\n",
       "    </tr>\n",
       "    <tr>\n",
       "      <th>16</th>\n",
       "      <td>Hamms</td>\n",
       "      <td>139</td>\n",
       "      <td>19</td>\n",
       "      <td>4.4</td>\n",
       "      <td>0.43</td>\n",
       "    </tr>\n",
       "    <tr>\n",
       "      <th>17</th>\n",
       "      <td>Heilemans_Old_Style</td>\n",
       "      <td>144</td>\n",
       "      <td>24</td>\n",
       "      <td>4.9</td>\n",
       "      <td>0.43</td>\n",
       "    </tr>\n",
       "    <tr>\n",
       "      <th>18</th>\n",
       "      <td>Olympia_Goled_Light</td>\n",
       "      <td>72</td>\n",
       "      <td>6</td>\n",
       "      <td>2.9</td>\n",
       "      <td>0.46</td>\n",
       "    </tr>\n",
       "    <tr>\n",
       "      <th>19</th>\n",
       "      <td>Schlitz_Light</td>\n",
       "      <td>97</td>\n",
       "      <td>7</td>\n",
       "      <td>4.2</td>\n",
       "      <td>0.47</td>\n",
       "    </tr>\n",
       "  </tbody>\n",
       "</table>\n",
       "</div>"
      ],
      "text/plain": [
       "                    name  calories  sodium  alcohol  cost\n",
       "0              Budweiser       144      15      4.7  0.43\n",
       "1                Schlitz       151      19      4.9  0.43\n",
       "2              Lowenbrau       157      15      0.9  0.48\n",
       "3            Kronenbourg       170       7      5.2  0.73\n",
       "4               Heineken       152      11      5.0  0.77\n",
       "5          Old_Milwaukee       145      23      4.6  0.28\n",
       "6             Augsberger       175      24      5.5  0.40\n",
       "7   Srohs_Bohemian_Style       149      27      4.7  0.42\n",
       "8            Miller_Lite        99      10      4.3  0.43\n",
       "9        Budweiser_Light       113       8      3.7  0.40\n",
       "10                 Coors       140      18      4.6  0.44\n",
       "11           Coors_Light       102      15      4.1  0.46\n",
       "12        Michelob_Light       135      11      4.2  0.50\n",
       "13                 Becks       150      19      4.7  0.76\n",
       "14                 Kirin       149       6      5.0  0.79\n",
       "15     Pabst_Extra_Light        68      15      2.3  0.38\n",
       "16                 Hamms       139      19      4.4  0.43\n",
       "17   Heilemans_Old_Style       144      24      4.9  0.43\n",
       "18   Olympia_Goled_Light        72       6      2.9  0.46\n",
       "19         Schlitz_Light        97       7      4.2  0.47"
      ]
     },
     "execution_count": 1,
     "metadata": {},
     "output_type": "execute_result"
    }
   ],
   "source": [
    "# beer dataset\n",
    "import pandas as pd\n",
    "url = '../../assets/dataset/beer.txt'\n",
    "beer = pd.read_csv(url, sep=' ')\n",
    "beer"
   ]
  },
  {
   "cell_type": "markdown",
   "metadata": {},
   "source": [
    "How would you cluster these beers?"
   ]
  },
  {
   "cell_type": "code",
   "execution_count": 2,
   "metadata": {
    "collapsed": true
   },
   "outputs": [],
   "source": [
    "# define X\n",
    "X = beer.drop('name', axis=1)"
   ]
  },
  {
   "cell_type": "code",
   "execution_count": 3,
   "metadata": {},
   "outputs": [
    {
     "data": {
      "text/html": [
       "<div>\n",
       "<style>\n",
       "    .dataframe thead tr:only-child th {\n",
       "        text-align: right;\n",
       "    }\n",
       "\n",
       "    .dataframe thead th {\n",
       "        text-align: left;\n",
       "    }\n",
       "\n",
       "    .dataframe tbody tr th {\n",
       "        vertical-align: top;\n",
       "    }\n",
       "</style>\n",
       "<table border=\"1\" class=\"dataframe\">\n",
       "  <thead>\n",
       "    <tr style=\"text-align: right;\">\n",
       "      <th></th>\n",
       "      <th>calories</th>\n",
       "      <th>sodium</th>\n",
       "      <th>alcohol</th>\n",
       "      <th>cost</th>\n",
       "    </tr>\n",
       "  </thead>\n",
       "  <tbody>\n",
       "    <tr>\n",
       "      <th>0</th>\n",
       "      <td>144</td>\n",
       "      <td>15</td>\n",
       "      <td>4.7</td>\n",
       "      <td>0.43</td>\n",
       "    </tr>\n",
       "    <tr>\n",
       "      <th>1</th>\n",
       "      <td>151</td>\n",
       "      <td>19</td>\n",
       "      <td>4.9</td>\n",
       "      <td>0.43</td>\n",
       "    </tr>\n",
       "    <tr>\n",
       "      <th>2</th>\n",
       "      <td>157</td>\n",
       "      <td>15</td>\n",
       "      <td>0.9</td>\n",
       "      <td>0.48</td>\n",
       "    </tr>\n",
       "    <tr>\n",
       "      <th>3</th>\n",
       "      <td>170</td>\n",
       "      <td>7</td>\n",
       "      <td>5.2</td>\n",
       "      <td>0.73</td>\n",
       "    </tr>\n",
       "    <tr>\n",
       "      <th>4</th>\n",
       "      <td>152</td>\n",
       "      <td>11</td>\n",
       "      <td>5.0</td>\n",
       "      <td>0.77</td>\n",
       "    </tr>\n",
       "  </tbody>\n",
       "</table>\n",
       "</div>"
      ],
      "text/plain": [
       "   calories  sodium  alcohol  cost\n",
       "0       144      15      4.7  0.43\n",
       "1       151      19      4.9  0.43\n",
       "2       157      15      0.9  0.48\n",
       "3       170       7      5.2  0.73\n",
       "4       152      11      5.0  0.77"
      ]
     },
     "execution_count": 3,
     "metadata": {},
     "output_type": "execute_result"
    }
   ],
   "source": [
    "X.head()"
   ]
  },
  {
   "cell_type": "markdown",
   "metadata": {},
   "source": [
    "Question: What happened to name? Why remove it ?"
   ]
  },
  {
   "cell_type": "markdown",
   "metadata": {},
   "source": [
    "## Part 1: K-means clustering"
   ]
  },
  {
   "cell_type": "code",
   "execution_count": 4,
   "metadata": {},
   "outputs": [
    {
     "data": {
      "text/plain": [
       "KMeans(algorithm='auto', copy_x=True, init='k-means++', max_iter=300,\n",
       "    n_clusters=3, n_init=10, n_jobs=1, precompute_distances='auto',\n",
       "    random_state=1, tol=0.0001, verbose=0)"
      ]
     },
     "execution_count": 4,
     "metadata": {},
     "output_type": "execute_result"
    }
   ],
   "source": [
    "# K-means with 3 clusters\n",
    "from sklearn.cluster import KMeans\n",
    "km = KMeans(n_clusters=3, random_state=1)\n",
    "km.fit(X)"
   ]
  },
  {
   "cell_type": "code",
   "execution_count": 5,
   "metadata": {},
   "outputs": [
    {
     "data": {
      "text/plain": [
       "array([0, 0, 0, 0, 0, 0, 0, 0, 1, 1, 0, 1, 0, 0, 0, 2, 0, 0, 2, 1], dtype=int32)"
      ]
     },
     "execution_count": 5,
     "metadata": {},
     "output_type": "execute_result"
    }
   ],
   "source": [
    "# review the cluster labels\n",
    "km.labels_"
   ]
  },
  {
   "cell_type": "code",
   "execution_count": 6,
   "metadata": {},
   "outputs": [
    {
     "data": {
      "text/html": [
       "<div>\n",
       "<style>\n",
       "    .dataframe thead tr:only-child th {\n",
       "        text-align: right;\n",
       "    }\n",
       "\n",
       "    .dataframe thead th {\n",
       "        text-align: left;\n",
       "    }\n",
       "\n",
       "    .dataframe tbody tr th {\n",
       "        vertical-align: top;\n",
       "    }\n",
       "</style>\n",
       "<table border=\"1\" class=\"dataframe\">\n",
       "  <thead>\n",
       "    <tr style=\"text-align: right;\">\n",
       "      <th></th>\n",
       "      <th>name</th>\n",
       "      <th>calories</th>\n",
       "      <th>sodium</th>\n",
       "      <th>alcohol</th>\n",
       "      <th>cost</th>\n",
       "      <th>cluster</th>\n",
       "    </tr>\n",
       "  </thead>\n",
       "  <tbody>\n",
       "    <tr>\n",
       "      <th>0</th>\n",
       "      <td>Budweiser</td>\n",
       "      <td>144</td>\n",
       "      <td>15</td>\n",
       "      <td>4.7</td>\n",
       "      <td>0.43</td>\n",
       "      <td>0</td>\n",
       "    </tr>\n",
       "    <tr>\n",
       "      <th>1</th>\n",
       "      <td>Schlitz</td>\n",
       "      <td>151</td>\n",
       "      <td>19</td>\n",
       "      <td>4.9</td>\n",
       "      <td>0.43</td>\n",
       "      <td>0</td>\n",
       "    </tr>\n",
       "    <tr>\n",
       "      <th>2</th>\n",
       "      <td>Lowenbrau</td>\n",
       "      <td>157</td>\n",
       "      <td>15</td>\n",
       "      <td>0.9</td>\n",
       "      <td>0.48</td>\n",
       "      <td>0</td>\n",
       "    </tr>\n",
       "    <tr>\n",
       "      <th>3</th>\n",
       "      <td>Kronenbourg</td>\n",
       "      <td>170</td>\n",
       "      <td>7</td>\n",
       "      <td>5.2</td>\n",
       "      <td>0.73</td>\n",
       "      <td>0</td>\n",
       "    </tr>\n",
       "    <tr>\n",
       "      <th>4</th>\n",
       "      <td>Heineken</td>\n",
       "      <td>152</td>\n",
       "      <td>11</td>\n",
       "      <td>5.0</td>\n",
       "      <td>0.77</td>\n",
       "      <td>0</td>\n",
       "    </tr>\n",
       "    <tr>\n",
       "      <th>5</th>\n",
       "      <td>Old_Milwaukee</td>\n",
       "      <td>145</td>\n",
       "      <td>23</td>\n",
       "      <td>4.6</td>\n",
       "      <td>0.28</td>\n",
       "      <td>0</td>\n",
       "    </tr>\n",
       "    <tr>\n",
       "      <th>6</th>\n",
       "      <td>Augsberger</td>\n",
       "      <td>175</td>\n",
       "      <td>24</td>\n",
       "      <td>5.5</td>\n",
       "      <td>0.40</td>\n",
       "      <td>0</td>\n",
       "    </tr>\n",
       "    <tr>\n",
       "      <th>7</th>\n",
       "      <td>Srohs_Bohemian_Style</td>\n",
       "      <td>149</td>\n",
       "      <td>27</td>\n",
       "      <td>4.7</td>\n",
       "      <td>0.42</td>\n",
       "      <td>0</td>\n",
       "    </tr>\n",
       "    <tr>\n",
       "      <th>17</th>\n",
       "      <td>Heilemans_Old_Style</td>\n",
       "      <td>144</td>\n",
       "      <td>24</td>\n",
       "      <td>4.9</td>\n",
       "      <td>0.43</td>\n",
       "      <td>0</td>\n",
       "    </tr>\n",
       "    <tr>\n",
       "      <th>16</th>\n",
       "      <td>Hamms</td>\n",
       "      <td>139</td>\n",
       "      <td>19</td>\n",
       "      <td>4.4</td>\n",
       "      <td>0.43</td>\n",
       "      <td>0</td>\n",
       "    </tr>\n",
       "    <tr>\n",
       "      <th>10</th>\n",
       "      <td>Coors</td>\n",
       "      <td>140</td>\n",
       "      <td>18</td>\n",
       "      <td>4.6</td>\n",
       "      <td>0.44</td>\n",
       "      <td>0</td>\n",
       "    </tr>\n",
       "    <tr>\n",
       "      <th>14</th>\n",
       "      <td>Kirin</td>\n",
       "      <td>149</td>\n",
       "      <td>6</td>\n",
       "      <td>5.0</td>\n",
       "      <td>0.79</td>\n",
       "      <td>0</td>\n",
       "    </tr>\n",
       "    <tr>\n",
       "      <th>12</th>\n",
       "      <td>Michelob_Light</td>\n",
       "      <td>135</td>\n",
       "      <td>11</td>\n",
       "      <td>4.2</td>\n",
       "      <td>0.50</td>\n",
       "      <td>0</td>\n",
       "    </tr>\n",
       "    <tr>\n",
       "      <th>13</th>\n",
       "      <td>Becks</td>\n",
       "      <td>150</td>\n",
       "      <td>19</td>\n",
       "      <td>4.7</td>\n",
       "      <td>0.76</td>\n",
       "      <td>0</td>\n",
       "    </tr>\n",
       "    <tr>\n",
       "      <th>9</th>\n",
       "      <td>Budweiser_Light</td>\n",
       "      <td>113</td>\n",
       "      <td>8</td>\n",
       "      <td>3.7</td>\n",
       "      <td>0.40</td>\n",
       "      <td>1</td>\n",
       "    </tr>\n",
       "    <tr>\n",
       "      <th>8</th>\n",
       "      <td>Miller_Lite</td>\n",
       "      <td>99</td>\n",
       "      <td>10</td>\n",
       "      <td>4.3</td>\n",
       "      <td>0.43</td>\n",
       "      <td>1</td>\n",
       "    </tr>\n",
       "    <tr>\n",
       "      <th>11</th>\n",
       "      <td>Coors_Light</td>\n",
       "      <td>102</td>\n",
       "      <td>15</td>\n",
       "      <td>4.1</td>\n",
       "      <td>0.46</td>\n",
       "      <td>1</td>\n",
       "    </tr>\n",
       "    <tr>\n",
       "      <th>19</th>\n",
       "      <td>Schlitz_Light</td>\n",
       "      <td>97</td>\n",
       "      <td>7</td>\n",
       "      <td>4.2</td>\n",
       "      <td>0.47</td>\n",
       "      <td>1</td>\n",
       "    </tr>\n",
       "    <tr>\n",
       "      <th>15</th>\n",
       "      <td>Pabst_Extra_Light</td>\n",
       "      <td>68</td>\n",
       "      <td>15</td>\n",
       "      <td>2.3</td>\n",
       "      <td>0.38</td>\n",
       "      <td>2</td>\n",
       "    </tr>\n",
       "    <tr>\n",
       "      <th>18</th>\n",
       "      <td>Olympia_Goled_Light</td>\n",
       "      <td>72</td>\n",
       "      <td>6</td>\n",
       "      <td>2.9</td>\n",
       "      <td>0.46</td>\n",
       "      <td>2</td>\n",
       "    </tr>\n",
       "  </tbody>\n",
       "</table>\n",
       "</div>"
      ],
      "text/plain": [
       "                    name  calories  sodium  alcohol  cost  cluster\n",
       "0              Budweiser       144      15      4.7  0.43        0\n",
       "1                Schlitz       151      19      4.9  0.43        0\n",
       "2              Lowenbrau       157      15      0.9  0.48        0\n",
       "3            Kronenbourg       170       7      5.2  0.73        0\n",
       "4               Heineken       152      11      5.0  0.77        0\n",
       "5          Old_Milwaukee       145      23      4.6  0.28        0\n",
       "6             Augsberger       175      24      5.5  0.40        0\n",
       "7   Srohs_Bohemian_Style       149      27      4.7  0.42        0\n",
       "17   Heilemans_Old_Style       144      24      4.9  0.43        0\n",
       "16                 Hamms       139      19      4.4  0.43        0\n",
       "10                 Coors       140      18      4.6  0.44        0\n",
       "14                 Kirin       149       6      5.0  0.79        0\n",
       "12        Michelob_Light       135      11      4.2  0.50        0\n",
       "13                 Becks       150      19      4.7  0.76        0\n",
       "9        Budweiser_Light       113       8      3.7  0.40        1\n",
       "8            Miller_Lite        99      10      4.3  0.43        1\n",
       "11           Coors_Light       102      15      4.1  0.46        1\n",
       "19         Schlitz_Light        97       7      4.2  0.47        1\n",
       "15     Pabst_Extra_Light        68      15      2.3  0.38        2\n",
       "18   Olympia_Goled_Light        72       6      2.9  0.46        2"
      ]
     },
     "execution_count": 6,
     "metadata": {},
     "output_type": "execute_result"
    }
   ],
   "source": [
    "# save the cluster labels and sort by cluster\n",
    "beer['cluster'] = km.labels_\n",
    "beer.sort_values('cluster')"
   ]
  },
  {
   "cell_type": "markdown",
   "metadata": {},
   "source": [
    "What do the clusters seem to be based on? Why?"
   ]
  },
  {
   "cell_type": "code",
   "execution_count": 7,
   "metadata": {},
   "outputs": [
    {
     "name": "stdout",
     "output_type": "stream",
     "text": [
      "Index([u'name', u'calories', u'sodium', u'alcohol', u'cost', u'cluster'], dtype='object')\n"
     ]
    },
    {
     "data": {
      "text/plain": [
       "array([[ 150.        ,   17.        ,    4.52142857,    0.52071429],\n",
       "       [ 102.75      ,   10.        ,    4.075     ,    0.44      ],\n",
       "       [  70.        ,   10.5       ,    2.6       ,    0.42      ]])"
      ]
     },
     "execution_count": 7,
     "metadata": {},
     "output_type": "execute_result"
    }
   ],
   "source": [
    "# review the cluster centers\n",
    "print beer.columns\n",
    "km.cluster_centers_"
   ]
  },
  {
   "cell_type": "code",
   "execution_count": 8,
   "metadata": {},
   "outputs": [
    {
     "data": {
      "text/html": [
       "<div>\n",
       "<style>\n",
       "    .dataframe thead tr:only-child th {\n",
       "        text-align: right;\n",
       "    }\n",
       "\n",
       "    .dataframe thead th {\n",
       "        text-align: left;\n",
       "    }\n",
       "\n",
       "    .dataframe tbody tr th {\n",
       "        vertical-align: top;\n",
       "    }\n",
       "</style>\n",
       "<table border=\"1\" class=\"dataframe\">\n",
       "  <thead>\n",
       "    <tr style=\"text-align: right;\">\n",
       "      <th></th>\n",
       "      <th>calories</th>\n",
       "      <th>sodium</th>\n",
       "      <th>alcohol</th>\n",
       "      <th>cost</th>\n",
       "    </tr>\n",
       "    <tr>\n",
       "      <th>cluster</th>\n",
       "      <th></th>\n",
       "      <th></th>\n",
       "      <th></th>\n",
       "      <th></th>\n",
       "    </tr>\n",
       "  </thead>\n",
       "  <tbody>\n",
       "    <tr>\n",
       "      <th>0</th>\n",
       "      <td>150.00</td>\n",
       "      <td>17.0</td>\n",
       "      <td>4.521429</td>\n",
       "      <td>0.520714</td>\n",
       "    </tr>\n",
       "    <tr>\n",
       "      <th>1</th>\n",
       "      <td>102.75</td>\n",
       "      <td>10.0</td>\n",
       "      <td>4.075000</td>\n",
       "      <td>0.440000</td>\n",
       "    </tr>\n",
       "    <tr>\n",
       "      <th>2</th>\n",
       "      <td>70.00</td>\n",
       "      <td>10.5</td>\n",
       "      <td>2.600000</td>\n",
       "      <td>0.420000</td>\n",
       "    </tr>\n",
       "  </tbody>\n",
       "</table>\n",
       "</div>"
      ],
      "text/plain": [
       "         calories  sodium   alcohol      cost\n",
       "cluster                                      \n",
       "0          150.00    17.0  4.521429  0.520714\n",
       "1          102.75    10.0  4.075000  0.440000\n",
       "2           70.00    10.5  2.600000  0.420000"
      ]
     },
     "execution_count": 8,
     "metadata": {},
     "output_type": "execute_result"
    }
   ],
   "source": [
    "# calculate the mean of each feature for each cluster\n",
    "beer.groupby('cluster').mean()"
   ]
  },
  {
   "cell_type": "code",
   "execution_count": 9,
   "metadata": {
    "collapsed": true
   },
   "outputs": [],
   "source": [
    "# save the DataFrame of cluster centers\n",
    "centers = beer.groupby('cluster').mean()"
   ]
  },
  {
   "cell_type": "code",
   "execution_count": 10,
   "metadata": {
    "collapsed": true
   },
   "outputs": [],
   "source": [
    "# allow plots to appear in the notebook\n",
    "%matplotlib inline\n",
    "import matplotlib.pyplot as plt\n",
    "plt.rcParams['font.size'] = 14"
   ]
  },
  {
   "cell_type": "code",
   "execution_count": 11,
   "metadata": {
    "collapsed": true
   },
   "outputs": [],
   "source": [
    "# create a \"colors\" array for plotting\n",
    "import numpy as np\n",
    "colors = np.array(['red', 'green', 'blue', 'yellow'])\n"
   ]
  },
  {
   "cell_type": "code",
   "execution_count": 12,
   "metadata": {},
   "outputs": [
    {
     "data": {
      "text/plain": [
       "<matplotlib.text.Text at 0x117ec8dd0>"
      ]
     },
     "execution_count": 12,
     "metadata": {},
     "output_type": "execute_result"
    },
    {
     "data": {
      "image/png": "[encoded data removed]",
      "text/plain": [
       "<matplotlib.figure.Figure at 0x113f2a350>"
      ]
     },
     "metadata": {},
     "output_type": "display_data"
    }
   ],
   "source": [
    "# scatter plot of calories versus alcohol, colored by cluster (0=red, 1=green, 2=blue)\n",
    "plt.scatter(beer.calories, beer.alcohol, c=colors[list(beer.cluster)], s=50)\n",
    "\n",
    "# cluster centers, marked by \"+\"\n",
    "plt.scatter(centers.calories, centers.alcohol, linewidths=3, marker='+', s=300, c='black')\n",
    "\n",
    "# add labels\n",
    "plt.xlabel('calories')\n",
    "plt.ylabel('alcohol')"
   ]
  },
  {
   "cell_type": "code",
   "execution_count": 13,
   "metadata": {},
   "outputs": [
    {
     "name": "stderr",
     "output_type": "stream",
     "text": [
      "/Users/srikanajan/anaconda/lib/python2.7/site-packages/ipykernel_launcher.py:2: FutureWarning: pandas.scatter_matrix is deprecated. Use pandas.plotting.scatter_matrix instead\n",
      "  \n"
     ]
    },
    {
     "data": {
      "text/plain": [
       "array([[<matplotlib.axes._subplots.AxesSubplot object at 0x117edfa10>,\n",
       "        <matplotlib.axes._subplots.AxesSubplot object at 0x117fa6f10>,\n",
       "        <matplotlib.axes._subplots.AxesSubplot object at 0x11814efd0>,\n",
       "        <matplotlib.axes._subplots.AxesSubplot object at 0x1181c2a50>],\n",
       "       [<matplotlib.axes._subplots.AxesSubplot object at 0x118246b50>,\n",
       "        <matplotlib.axes._subplots.AxesSubplot object at 0x1182ad610>,\n",
       "        <matplotlib.axes._subplots.AxesSubplot object at 0x118332710>,\n",
       "        <matplotlib.axes._subplots.AxesSubplot object at 0x1183a7190>],\n",
       "       [<matplotlib.axes._subplots.AxesSubplot object at 0x11842b610>,\n",
       "        <matplotlib.axes._subplots.AxesSubplot object at 0x1183dee50>,\n",
       "        <matplotlib.axes._subplots.AxesSubplot object at 0x118526250>,\n",
       "        <matplotlib.axes._subplots.AxesSubplot object at 0x1185ab0d0>],\n",
       "       [<matplotlib.axes._subplots.AxesSubplot object at 0x118610d90>,\n",
       "        <matplotlib.axes._subplots.AxesSubplot object at 0x118699d10>,\n",
       "        <matplotlib.axes._subplots.AxesSubplot object at 0x11870c4d0>,\n",
       "        <matplotlib.axes._subplots.AxesSubplot object at 0x118792510>]], dtype=object)"
      ]
     },
     "execution_count": 13,
     "metadata": {},
     "output_type": "execute_result"
    },
    {
     "data": {
      "image/png": "[encoded data removed]",
      "text/plain": [
       "<matplotlib.figure.Figure at 0x117e901d0>"
      ]
     },
     "metadata": {},
     "output_type": "display_data"
    }
   ],
   "source": [
    "# scatter plot matrix (0=red, 1=green, 2=blue)\n",
    "pd.scatter_matrix(X, c=colors[list(beer.cluster)], figsize=(10,10), s=100)"
   ]
  },
  {
   "cell_type": "markdown",
   "metadata": {},
   "source": [
    "## Independent Practice\n",
    "### Repeat the clustering with scaled data"
   ]
  },
  {
   "cell_type": "markdown",
   "metadata": {},
   "source": [
    "Figure out how to Scale the data first and then do the clustering and scatter matrix again. What is your conclusion now as to what are these clusters? \n",
    "\n",
    "HINT:\n",
    "\n",
    "```python  from sklearn.preprocessing import StandardScaler\n",
    "scaler = StandardScaler()\n",
    "```"
   ]
  },
  {
   "cell_type": "code",
   "execution_count": null,
   "metadata": {
    "collapsed": true
   },
   "outputs": [],
   "source": [
    "# center and scale the data\n"
   ]
  },
  {
   "cell_type": "code",
   "execution_count": null,
   "metadata": {
    "collapsed": true
   },
   "outputs": [],
   "source": [
    "# Check for std and mean to confirm the affect of the scaling\n"
   ]
  },
  {
   "cell_type": "code",
   "execution_count": null,
   "metadata": {
    "collapsed": true
   },
   "outputs": [],
   "source": [
    "# Now perform the KMeans clustering with 3 clusters\n",
    "# Do your fitting here\n",
    "\n",
    "# Show the labels and observe any insights on what makes a centroid\n"
   ]
  },
  {
   "cell_type": "code",
   "execution_count": null,
   "metadata": {
    "collapsed": true
   },
   "outputs": [],
   "source": [
    "# What do you observe in the clustering ? Note, you can sort by the label to bring rows with the same \n",
    "# clusters together\n"
   ]
  },
  {
   "cell_type": "code",
   "execution_count": null,
   "metadata": {},
   "outputs": [],
   "source": [
    "# What are the means of each attribute for the centroids in each cluster? Do you see anything interesting?\n",
    "# Do a scatter matrix plot of calories versus alcohol, colored by cluster (0=red, 1=green, 2=blue)\n",
    "plt.scatter(beer.calories, beer.alcohol, c=colors[list(beer.cluster)], s=50)\n",
    "\n",
    "# cluster centers, marked by \"+\"\n",
    "plt.scatter(centers.calories, centers.alcohol, linewidths=3, marker='+', s=300, c='black')\n",
    "\n",
    "# add labels\n",
    "plt.xlabel('calories')\n",
    "plt.ylabel('alcohol')"
   ]
  },
  {
   "cell_type": "markdown",
   "metadata": {},
   "source": [
    "## Part 2: Clustering evaluation\n",
    "\n",
    "The [Silhouette Coefficient](http://scikit-learn.org/stable/modules/clustering.html#silhouette-coefficient) is a common metric for evaluating clustering \"performance\" in situations when the \"true\" cluster assignments are not known.\n",
    "\n",
    "A Silhouette Coefficient is calculated for **each observation**:\n",
    "\n",
    "$$SC = \\frac{b-a} {max(a, b)}$$\n",
    "\n",
    "- a = mean distance to all other points in **its cluster**\n",
    "- b = mean distance to all other points in **the next nearest cluster**\n",
    "\n",
    "It ranges from -1 (worst) to 1 (best). A **global score** is calculated by taking the mean score for all observations."
   ]
  },
  {
   "cell_type": "markdown",
   "metadata": {},
   "source": [
    "## This is to visualize the details behind the silhouette score. Modified from http://scikit-learn.org/stable/auto_examples/cluster/plot_kmeans_silhouette_analysis.html\n"
   ]
  },
  {
   "cell_type": "code",
   "execution_count": 17,
   "metadata": {},
   "outputs": [
    {
     "name": "stdout",
     "output_type": "stream",
     "text": [
      "('For n_clusters =', 3, 'The average silhouette_score is :', 0.67317750464557957)\n"
     ]
    },
    {
     "data": {
      "image/png": "[encoded data removed]",
      "text/plain": [
       "<matplotlib.figure.Figure at 0x11a04fed0>"
      ]
     },
     "metadata": {},
     "output_type": "display_data"
    }
   ],
   "source": [
    "from sklearn.metrics import silhouette_samples, silhouette_score\n",
    "import matplotlib.pyplot as plt\n",
    "import matplotlib.cm as cm\n",
    "import numpy as np\n",
    "\n",
    "clusterer = km\n",
    "n_clusters = len(np.unique(clusterer.labels_))\n",
    "cluster_labels = clusterer.labels_\n",
    "# Create a subplot with 1 row and 2 columns\n",
    "fig, (ax1, ax2) = plt.subplots(1, 2)\n",
    "fig.set_size_inches(18, 7)\n",
    "\n",
    "# The 1st subplot is the silhouette plot\n",
    "# The silhouette coefficient can range from -1, 1 but in this example all\n",
    "# lie within [-0.1, 1]\n",
    "ax1.set_xlim([-0.1, 1])\n",
    "# The (n_clusters+1)*10 is for inserting blank space between silhouette\n",
    "# plots of individual clusters, to demarcate them clearly.\n",
    "ax1.set_ylim([0, len(X) + (n_clusters + 1) * 10])\n",
    "\n",
    "# The silhouette_score gives the average value for all the samples.\n",
    "# This gives a perspective into the density and separation of the formed\n",
    "# clusters\n",
    "silhouette_avg = silhouette_score(X, cluster_labels)\n",
    "print(\"For n_clusters =\", n_clusters,\n",
    "      \"The average silhouette_score is :\", silhouette_avg)\n",
    "\n",
    "# Compute the silhouette scores for each sample\n",
    "sample_silhouette_values = silhouette_samples(X, cluster_labels)\n",
    "\n",
    "y_lower = 10\n",
    "for i in range(n_clusters):\n",
    "    # Aggregate the silhouette scores for samples belonging to\n",
    "    # cluster i, and sort them\n",
    "    ith_cluster_silhouette_values = \\\n",
    "        sample_silhouette_values[cluster_labels == i]\n",
    "\n",
    "    ith_cluster_silhouette_values.sort()\n",
    "\n",
    "    size_cluster_i = ith_cluster_silhouette_values.shape[0]\n",
    "    y_upper = y_lower + size_cluster_i\n",
    "\n",
    "    color = cm.spectral(float(i) / n_clusters)\n",
    "    ax1.fill_betweenx(np.arange(y_lower, y_upper),\n",
    "                      0, ith_cluster_silhouette_values,\n",
    "                      facecolor=color, edgecolor=color, alpha=0.7)\n",
    "\n",
    "    # Label the silhouette plots with their cluster numbers at the middle\n",
    "    ax1.text(-0.05, y_lower + 0.5 * size_cluster_i, str(i))\n",
    "\n",
    "    # Compute the new y_lower for next plot\n",
    "    y_lower = y_upper + 10  # 10 for the 0 samples\n",
    "\n",
    "ax1.set_title(\"The silhouette plot for the various clusters.\")\n",
    "ax1.set_xlabel(\"The silhouette coefficient values\")\n",
    "ax1.set_ylabel(\"Cluster label\")\n",
    "\n",
    "# The vertical line for average silhouette score of all the values\n",
    "ax1.axvline(x=silhouette_avg, color=\"red\", linestyle=\"--\")\n",
    "\n",
    "ax1.set_yticks([])  # Clear the yaxis labels / ticks\n",
    "ax1.set_xticks([-0.1, 0, 0.2, 0.4, 0.6, 0.8, 1])\n",
    "\n",
    "# 2nd Plot showing the actual clusters formed\n",
    "colors = cm.spectral(cluster_labels.astype(float) / n_clusters)\n",
    "ax2.scatter(X.values[:, 0], X.values[:, 1], marker='.', s=30, lw=0, alpha=0.7,\n",
    "                c=colors, edgecolor='k')\n",
    "\n",
    "# Labeling the clusters\n",
    "centers = clusterer.cluster_centers_\n",
    "# Draw white circles at cluster centers\n",
    "ax2.scatter(centers[:, 0], centers[:, 1], marker='o',\n",
    "            c=\"white\", alpha=1, s=200, edgecolor='k')\n",
    "\n",
    "for i, c in enumerate(centers):\n",
    "    ax2.scatter(c[0], c[1], marker='$%d$' % i, alpha=1,\n",
    "                s=50, edgecolor='k')\n",
    "\n",
    "ax2.set_title(\"The visualization of the clustered data.\")\n",
    "ax2.set_xlabel(\"Feature space for the 1st feature\")\n",
    "ax2.set_ylabel(\"Feature space for the 2nd feature\")\n",
    "\n",
    "plt.suptitle((\"Silhouette analysis for KMeans clustering on sample data \"\n",
    "              \"with n_clusters = %d\" % n_clusters),\n",
    "             fontsize=14, fontweight='bold')\n",
    "\n",
    "plt.show()"
   ]
  },
  {
   "cell_type": "code",
   "execution_count": 14,
   "metadata": {},
   "outputs": [
    {
     "data": {
      "text/plain": [
       "0.67317750464557957"
      ]
     },
     "execution_count": 14,
     "metadata": {},
     "output_type": "execute_result"
    }
   ],
   "source": [
    "from sklearn import metrics\n",
    "metrics.silhouette_score(X, km.labels_)"
   ]
  },
  {
   "cell_type": "code",
   "execution_count": 15,
   "metadata": {},
   "outputs": [
    {
     "ename": "NameError",
     "evalue": "name 'X_scaled' is not defined",
     "output_type": "error",
     "traceback": [
      "\u001b[0;31m---------------------------------------------------------------------------\u001b[0m",
      "\u001b[0;31mNameError\u001b[0m                                 Traceback (most recent call last)",
      "\u001b[0;32m<ipython-input-15-c8fae0c560c7>\u001b[0m in \u001b[0;36m<module>\u001b[0;34m()\u001b[0m\n\u001b[1;32m      1\u001b[0m \u001b[0;31m# calculate SC for K=3\u001b[0m\u001b[0;34m\u001b[0m\u001b[0;34m\u001b[0m\u001b[0m\n\u001b[1;32m      2\u001b[0m \u001b[0;34m\u001b[0m\u001b[0m\n\u001b[0;32m----> 3\u001b[0;31m \u001b[0mmetrics\u001b[0m\u001b[0;34m.\u001b[0m\u001b[0msilhouette_score\u001b[0m\u001b[0;34m(\u001b[0m\u001b[0mX_scaled\u001b[0m\u001b[0;34m,\u001b[0m \u001b[0mkm\u001b[0m\u001b[0;34m.\u001b[0m\u001b[0mlabels_\u001b[0m\u001b[0;34m)\u001b[0m\u001b[0;34m\u001b[0m\u001b[0m\n\u001b[0m",
      "\u001b[0;31mNameError\u001b[0m: name 'X_scaled' is not defined"
     ]
    }
   ],
   "source": [
    "# calculate SC for K=3\n",
    "\n",
    "metrics.silhouette_score(X_scaled, km.labels_)"
   ]
  },
  {
   "cell_type": "markdown",
   "metadata": {},
   "source": [
    "## Independent Practice\n",
    "### Calculate the silhouette_score for k from 2 to 19 clusters and see how it changes"
   ]
  },
  {
   "cell_type": "code",
   "execution_count": null,
   "metadata": {
    "collapsed": true
   },
   "outputs": [],
   "source": [
    "# calculate SC for K=2 through K=19\n",
    "# for k in k_range:\n",
    "# ... FILL IN YOUR CODE HERE\n",
    "\n"
   ]
  },
  {
   "cell_type": "markdown",
   "metadata": {},
   "source": [
    "### Plot out the sillouette scores by the number of clusters"
   ]
  },
  {
   "cell_type": "code",
   "execution_count": null,
   "metadata": {
    "collapsed": true
   },
   "outputs": [],
   "source": [
    "# plot the results\n"
   ]
  },
  {
   "cell_type": "code",
   "execution_count": null,
   "metadata": {
    "collapsed": true
   },
   "outputs": [],
   "source": [
    "# Perform K-means with the \"optimal\" number of clusters on scaled data. What do you observe from this k clustering?\n"
   ]
  },
  {
   "cell_type": "markdown",
   "metadata": {},
   "source": [
    "## Part 3: DBSCAN clustering"
   ]
  },
  {
   "cell_type": "code",
   "execution_count": null,
   "metadata": {},
   "outputs": [],
   "source": [
    "# DBSCAN with eps=1 and min_samples=3\n",
    "from sklearn.cluster import DBSCAN\n",
    "db = DBSCAN(eps=1, min_samples=3)\n",
    "db.fit(X_scaled)"
   ]
  },
  {
   "cell_type": "code",
   "execution_count": null,
   "metadata": {},
   "outputs": [],
   "source": [
    "# review the cluster labels\n",
    "db.labels_"
   ]
  },
  {
   "cell_type": "code",
   "execution_count": null,
   "metadata": {},
   "outputs": [],
   "source": [
    "# save the cluster labels and sort by cluster\n",
    "beer['cluster'] = db.labels_\n",
    "beer.sort_values('cluster')"
   ]
  },
  {
   "cell_type": "code",
   "execution_count": null,
   "metadata": {},
   "outputs": [],
   "source": [
    "# review the cluster centers\n",
    "beer.groupby('cluster').mean()"
   ]
  },
  {
   "cell_type": "code",
   "execution_count": 24,
   "metadata": {},
   "outputs": [
    {
     "name": "stderr",
     "output_type": "stream",
     "text": [
      "/Users/srikanajan/anaconda/lib/python2.7/site-packages/ipykernel_launcher.py:2: FutureWarning: pandas.scatter_matrix is deprecated. Use pandas.plotting.scatter_matrix instead\n",
      "  \n"
     ]
    },
    {
     "data": {
      "text/plain": [
       "array([[<matplotlib.axes._subplots.AxesSubplot object at 0x11f0f5490>,\n",
       "        <matplotlib.axes._subplots.AxesSubplot object at 0x11f2c0310>,\n",
       "        <matplotlib.axes._subplots.AxesSubplot object at 0x1203803d0>,\n",
       "        <matplotlib.axes._subplots.AxesSubplot object at 0x11e763d50>],\n",
       "       [<matplotlib.axes._subplots.AxesSubplot object at 0x1203f6510>,\n",
       "        <matplotlib.axes._subplots.AxesSubplot object at 0x120451e50>,\n",
       "        <matplotlib.axes._subplots.AxesSubplot object at 0x1204f0310>,\n",
       "        <matplotlib.axes._subplots.AxesSubplot object at 0x1204a2b50>],\n",
       "       [<matplotlib.axes._subplots.AxesSubplot object at 0x1205dbf10>,\n",
       "        <matplotlib.axes._subplots.AxesSubplot object at 0x120660d90>,\n",
       "        <matplotlib.axes._subplots.AxesSubplot object at 0x1206d2a90>,\n",
       "        <matplotlib.axes._subplots.AxesSubplot object at 0x12075aad0>],\n",
       "       [<matplotlib.axes._subplots.AxesSubplot object at 0x1207cc1d0>,\n",
       "        <matplotlib.axes._subplots.AxesSubplot object at 0x120855210>,\n",
       "        <matplotlib.axes._subplots.AxesSubplot object at 0x1208bd9d0>,\n",
       "        <matplotlib.axes._subplots.AxesSubplot object at 0x120942b90>]], dtype=object)"
      ]
     },
     "execution_count": 24,
     "metadata": {},
     "output_type": "execute_result"
    },
    {
     "data": {
      "image/png": "[encoded data removed]",
      "text/plain": [
       "<matplotlib.figure.Figure at 0x11f0f5210>"
      ]
     },
     "metadata": {},
     "output_type": "display_data"
    }
   ],
   "source": [
    "# scatter plot matrix of DBSCAN cluster assignments (0=red, 1=green, 2=blue, -1=yellow)\n",
    "pd.scatter_matrix(X, c=colors[list(beer.cluster)], figsize=(10,10), s=100)"
   ]
  },
  {
   "cell_type": "code",
   "execution_count": null,
   "metadata": {},
   "outputs": [],
   "source": [
    "# Silhousette Coefficient also works on DBSCAN\n",
    "metrics.silhouette_score(X_scaled, db.labels_)"
   ]
  },
  {
   "cell_type": "markdown",
   "metadata": {},
   "source": [
    "### Calculate silouhette scores for epsilon from 1 to 10 and plot the resulting number of clusters over K"
   ]
  },
  {
   "cell_type": "code",
   "execution_count": null,
   "metadata": {
    "collapsed": true
   },
   "outputs": [],
   "source": [
    "eps_range = np.linspace(1, 10,100)\n",
    "scores = []\n"
   ]
  },
  {
   "cell_type": "code",
   "execution_count": null,
   "metadata": {
    "collapsed": true
   },
   "outputs": [],
   "source": [
    "# plot the results\n",
    "plt.plot(eps_range, scores)\n",
    "plt.xlabel('epsilon')\n",
    "plt.ylabel('Silhouette Coefficient')\n",
    "plt.grid(True)"
   ]
  },
  {
   "cell_type": "markdown",
   "metadata": {},
   "source": [
    "### BONUS: Try to plot silouhette coefficient vs. number of clusters instead (hint: num of clusters can be derived from the number of unique labels)"
   ]
  }
 ],
 "metadata": {
  "kernelspec": {
   "display_name": "Python 2",
   "language": "python",
   "name": "python2"
  },
  "language_info": {
   "codemirror_mode": {
    "name": "ipython",
    "version": 2
   },
   "file_extension": ".py",
   "mimetype": "text/x-python",
   "name": "python",
   "nbconvert_exporter": "python",
   "pygments_lexer": "ipython2",
   "version": "2.7.13"
  }
 },
 "nbformat": 4,
 "nbformat_minor": 1
}

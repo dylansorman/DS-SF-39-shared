{
 "cells": [
  {
   "cell_type": "code",
   "execution_count": 4,
   "metadata": {},
   "outputs": [],
   "source": [
    "import pandas as pd\n",
    "import json\n",
    "\n",
    "data = pd.read_csv(\"Best_Part.csv\")"
   ]
  },
  {
   "cell_type": "code",
   "execution_count": 6,
   "metadata": {},
   "outputs": [
    {
     "data": {
      "text/plain": [
       "<bound method DataFrame.head of                                               Best_Part\n",
       "0        Teamwork, time flexibility, I enjoy what I do.\n",
       "1     Provides knowledge and support to the new staf...\n",
       "2     Getting along with the people I work with. I f...\n",
       "3             The people I worked with as well schedule\n",
       "4      This company I am working with as well schedule.\n",
       "5     I enjoy working with very diverse group of ind...\n",
       "6     The people whom I work with everyday. The rela...\n",
       "7     I AM FEELING COMFORTABLE TO SHARE MY IDEAS WIT...\n",
       "8     Working at Gilead has made me better person, b...\n",
       "9     I feel glad to be a part of such an organizati...\n",
       "10    The best part of my experience is all the equi...\n",
       "11    I learned, how to work in critical and stressf...\n",
       "12    As a member of the production team, i can get ...\n",
       "13    �Teach and learn continuously to build experti...\n",
       "14                                       Shift Schedule\n",
       "15    I am actively involved in problem solving and ...\n",
       "16    I worked around 15 years with similar batch pr...\n",
       "17    Little things we do here has greater impact at...\n",
       "18                          working as a team at gilead\n",
       "19    Working with people of different background an...\n",
       "20                          Like the people I work with\n",
       "21                          working environment is good\n",
       "22    The best part of my experience at Gilead is wo...\n",
       "23          I can utilize my experience and skills here\n",
       "24    Company unity, clear objectives, a good workin...\n",
       "25                                      Office location\n",
       "26    In order to have gathered employees of differe...\n",
       "27    It has attracted people with various backgroun...\n",
       "28    If you give a chance to a lot of people, the s...\n",
       "29    Work environment to teamwork upper management ...\n",
       "...                                                 ...\n",
       "8022                                           benefits\n",
       "8023             Being a part of innovative treatments.\n",
       "8024  I can still wake up early every morning and sp...\n",
       "8025  I enjoy hearing how Gilead is helping patients...\n",
       "8026  The people that I work with, especially my man...\n",
       "8027  The courses I have been able to attend and the...\n",
       "8028  Gilead runs very lean and the employees can of...\n",
       "8029     The relationships with my customers and peers.\n",
       "8030  Working in a burgeoning, rapidly developing co...\n",
       "8031  The best part of my experience at Kite is my t...\n",
       "8032  implement new technology to improve organizati...\n",
       "8033  education on disease state; cross-collaboratio...\n",
       "8034       Getting the positive results after hard work\n",
       "8035                                                NaN\n",
       "8036  The opportunity to develop new skill sets requ...\n",
       "8037  The diversity in expertise and experiential ba...\n",
       "8038                                        The people.\n",
       "8039   I have been lucky to work with great colleagues.\n",
       "8040  I like that the company finds ways to innovate...\n",
       "8041  interesting work, fast paced organization, wil...\n",
       "8042  The internal department teams I'm a part of a ...\n",
       "8043  The best part of my experience at Gilead is kn...\n",
       "8044                                       compensation\n",
       "8045                     cross-functional collaboration\n",
       "8046  I have a great relationship with my direct man...\n",
       "8047                                 Launching HCV cure\n",
       "8048  There have been no changes to my job responsib...\n",
       "8049         The total rewards at Gilead are very good.\n",
       "8050                           Working for a big pharma\n",
       "8051  Helping accounts and organizations increase th...\n",
       "\n",
       "[8052 rows x 1 columns]>"
      ]
     },
     "execution_count": 6,
     "metadata": {},
     "output_type": "execute_result"
    }
   ],
   "source": [
    "data.head"
   ]
  },
  {
   "cell_type": "code",
   "execution_count": null,
   "metadata": {
    "collapsed": true
   },
   "outputs": [],
   "source": []
  }
 ],
 "metadata": {
  "kernelspec": {
   "display_name": "Python 2",
   "language": "python",
   "name": "python2"
  },
  "language_info": {
   "codemirror_mode": {
    "name": "ipython",
    "version": 2
   },
   "file_extension": ".py",
   "mimetype": "text/x-python",
   "name": "python",
   "nbconvert_exporter": "python",
   "pygments_lexer": "ipython2",
   "version": "2.7.13"
  }
 },
 "nbformat": 4,
 "nbformat_minor": 2
}
